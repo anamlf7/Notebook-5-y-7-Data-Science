{
  "nbformat": 4,
  "nbformat_minor": 0,
  "metadata": {
    "kernelspec": {
      "display_name": "Python 3",
      "language": "python",
      "name": "python3"
    },
    "language_info": {
      "codemirror_mode": {
        "name": "ipython",
        "version": 3
      },
      "file_extension": ".py",
      "mimetype": "text/x-python",
      "name": "python",
      "nbconvert_exporter": "python",
      "pygments_lexer": "ipython3",
      "version": "3.7.3"
    },
    "colab": {
      "provenance": [],
      "include_colab_link": true
    }
  },
  "cells": [
    {
      "cell_type": "markdown",
      "metadata": {
        "id": "view-in-github",
        "colab_type": "text"
      },
      "source": [
        "<a href=\"https://colab.research.google.com/github/anamlf7/Notebook-5-y-7-Data-Science/blob/main/Copia_de_Notebook_5.ipynb\" target=\"_parent\"><img src=\"https://colab.research.google.com/assets/colab-badge.svg\" alt=\"Open In Colab\"/></a>"
      ]
    },
    {
      "cell_type": "markdown",
      "metadata": {
        "id": "Gp2WddtV9IwG"
      },
      "source": [
        "# Programa Ingenias+ Data Science"
      ]
    },
    {
      "cell_type": "markdown",
      "metadata": {
        "id": "H4M1yVbf9IwH"
      },
      "source": [
        "Como dijimos en clases anteriores, Python tiene implementadas muchas librerias para poder trabajar con datos. En la clase de hoy trabajaremos con una de ellas: `Numpy`."
      ]
    },
    {
      "cell_type": "markdown",
      "metadata": {
        "id": "GdTT8WeL9IwI"
      },
      "source": [
        "Antes de comenzar, vamos a hablar un poco de esta libreria o modulo.\n",
        "\n",
        "**Numpy** es una librería optimizada para realizar cálculos numéricos con vectores y matrices. A diferencia de otros lenguajes de programación, Python no posee en su estructura central la figura de matrices. Eso quiere decir que para poder trabajar con esta estructura de datos deberiamos trabajar con listas de listas. NumPy introduce el concepto de arrays o matrices."
      ]
    },
    {
      "cell_type": "markdown",
      "metadata": {
        "id": "qWkq3EHK9IwK"
      },
      "source": [
        "Al ser de código abierto, `numpy` posee una documentación muy amplia que es **SIEMPRE RECOMENDABLE** consultar."
      ]
    },
    {
      "cell_type": "markdown",
      "metadata": {
        "id": "nxe3KLUO9IwL"
      },
      "source": [
        "- [Documentacion NumPy](https://devdocs.io/numpy/)"
      ]
    },
    {
      "cell_type": "markdown",
      "metadata": {
        "id": "l1Ay3nSs9IwN"
      },
      "source": [
        "## Clase 4: Introduccion a NumPy"
      ]
    },
    {
      "cell_type": "markdown",
      "metadata": {
        "id": "X03mviQS9IyL"
      },
      "source": [
        "# Ejercicios\n",
        "\n",
        "1. Crear un arreglo de ceros de longitud 12\n",
        "2. Crear un arreglo de longitud 10 con ceros en todas sus posiciones y un 10 en la posición número 5\n",
        "3. Crear un arreglo que tenga los números del 10 al 49\n",
        "4. Crear una arreglo 2d de shape (3, 3) que tenga los números del 0 al 8\n",
        "5. Crear un arreglo de números aleatorios de longitud 100 y obtener su media y varianza\n",
        "6. Calcular la media de un arreglo usando np.sum\n",
        "7. Calcular la varianza de un arreglo usando np.sum y np.mean\n",
        "8. Crear un array de números aleatorios usando np.random.randn.\n"
      ]
    },
    {
      "cell_type": "code",
      "metadata": {
        "id": "G0NMKT609IyM",
        "outputId": "21873c28-d51a-4635-ad56-b2a00770ef6a",
        "colab": {
          "base_uri": "https://localhost:8080/"
        }
      },
      "source": [
        "import numpy as np\n",
        "arr1=np.zeros(12)\n",
        "print(arr1)"
      ],
      "execution_count": 2,
      "outputs": [
        {
          "output_type": "stream",
          "name": "stdout",
          "text": [
            "[0. 0. 0. 0. 0. 0. 0. 0. 0. 0. 0. 0.]\n"
          ]
        }
      ]
    },
    {
      "cell_type": "code",
      "source": [
        "arr2=np.zeros(10)\n",
        "arr2[4]=10\n",
        "print(arr2)"
      ],
      "metadata": {
        "id": "CuFfDBLogtiP",
        "outputId": "8c6aa4f1-daf5-490e-e46e-365cd80313dc",
        "colab": {
          "base_uri": "https://localhost:8080/"
        }
      },
      "execution_count": 3,
      "outputs": [
        {
          "output_type": "stream",
          "name": "stdout",
          "text": [
            "[ 0.  0.  0.  0. 10.  0.  0.  0.  0.  0.]\n"
          ]
        }
      ]
    },
    {
      "cell_type": "code",
      "source": [
        "arr3=np.arange(10,50)\n",
        "print(arr3)"
      ],
      "metadata": {
        "id": "Ecsph17pqXJT",
        "outputId": "9ca12362-9bfc-41b8-bebe-88988b426cdf",
        "colab": {
          "base_uri": "https://localhost:8080/"
        }
      },
      "execution_count": 4,
      "outputs": [
        {
          "output_type": "stream",
          "name": "stdout",
          "text": [
            "[10 11 12 13 14 15 16 17 18 19 20 21 22 23 24 25 26 27 28 29 30 31 32 33\n",
            " 34 35 36 37 38 39 40 41 42 43 44 45 46 47 48 49]\n"
          ]
        }
      ]
    },
    {
      "cell_type": "code",
      "source": [
        "arr4=np.random.randint(0,8,(3,3))\n",
        "print(arr4)"
      ],
      "metadata": {
        "id": "Ni72p0CEqXn4",
        "colab": {
          "base_uri": "https://localhost:8080/"
        },
        "outputId": "2134c131-2c7b-44b4-b9f3-2c4ba76a9be8"
      },
      "execution_count": 5,
      "outputs": [
        {
          "output_type": "stream",
          "name": "stdout",
          "text": [
            "[[0 4 2]\n",
            " [4 3 4]\n",
            " [3 6 6]]\n"
          ]
        }
      ]
    },
    {
      "cell_type": "code",
      "source": [
        "arr5=np.random.randint(0,300,100)\n",
        "print(arr5)"
      ],
      "metadata": {
        "id": "5cTWin07rHkH",
        "colab": {
          "base_uri": "https://localhost:8080/"
        },
        "outputId": "4de95008-1a93-4362-e95c-8841abb8f4ab"
      },
      "execution_count": 6,
      "outputs": [
        {
          "output_type": "stream",
          "name": "stdout",
          "text": [
            "[ 47 292  74 250 164 299  35 258 253 258 183   2 102 155 139 287 249  22\n",
            "  62 189 199  33  57 153 173 289 148 254 137 180  84 154 269 114 284  77\n",
            " 212 204 165 121 215 117 128 121 171 258 251 126 276 246 206 290 179 111\n",
            "  14 110 142 268 273 141 211 222 169 196 224 119 255 147 253 297 212  28\n",
            " 203 226 143 211   5  17 207 195 296 296  70 137  31  40 191 156  31  47\n",
            " 241 192 174 248 247 134 162 142 113  32]\n"
          ]
        }
      ]
    },
    {
      "cell_type": "code",
      "source": [
        "media=np.mean(arr5)\n",
        "print(media)"
      ],
      "metadata": {
        "id": "i70AzZewrIAP",
        "colab": {
          "base_uri": "https://localhost:8080/"
        },
        "outputId": "d04b8944-bf8d-4180-bb97-32142eab0eba"
      },
      "execution_count": 7,
      "outputs": [
        {
          "output_type": "stream",
          "name": "stdout",
          "text": [
            "167.9\n"
          ]
        }
      ]
    },
    {
      "cell_type": "code",
      "source": [
        "np.var(arr5)"
      ],
      "metadata": {
        "colab": {
          "base_uri": "https://localhost:8080/"
        },
        "id": "a4aCFjBX3dSC",
        "outputId": "6605b971-707b-4052-a8cb-d8778fd56cbc"
      },
      "execution_count": 8,
      "outputs": [
        {
          "output_type": "execute_result",
          "data": {
            "text/plain": [
              "6836.430000000002"
            ]
          },
          "metadata": {},
          "execution_count": 8
        }
      ]
    },
    {
      "cell_type": "code",
      "source": [
        "np.sum(arr5)/100"
      ],
      "metadata": {
        "colab": {
          "base_uri": "https://localhost:8080/"
        },
        "id": "suYcMC6B3dhg",
        "outputId": "04f2382b-0c6d-4fd9-af92-1432210bd057"
      },
      "execution_count": 9,
      "outputs": [
        {
          "output_type": "execute_result",
          "data": {
            "text/plain": [
              "167.9"
            ]
          },
          "metadata": {},
          "execution_count": 9
        }
      ]
    },
    {
      "cell_type": "code",
      "source": [
        "(np.sum((arr5 - media)**2))/len(arr5)"
      ],
      "metadata": {
        "colab": {
          "base_uri": "https://localhost:8080/"
        },
        "id": "ifXW7yjD3dsK",
        "outputId": "4d754f88-2d3d-4169-a091-a2f81a0faef4"
      },
      "execution_count": 11,
      "outputs": [
        {
          "output_type": "execute_result",
          "data": {
            "text/plain": [
              "6836.430000000002"
            ]
          },
          "metadata": {},
          "execution_count": 11
        }
      ]
    },
    {
      "cell_type": "code",
      "source": [
        "arr6= np.random.rand(5,5)\n",
        "print(arr6)"
      ],
      "metadata": {
        "colab": {
          "base_uri": "https://localhost:8080/"
        },
        "id": "9ua7zVLT6sOl",
        "outputId": "2840ab94-6c58-40cc-8d9e-ac6b90a9f59f"
      },
      "execution_count": 12,
      "outputs": [
        {
          "output_type": "stream",
          "name": "stdout",
          "text": [
            "[[0.70645158 0.71556738 0.36458818 0.18140162 0.65532087]\n",
            " [0.82887113 0.77001745 0.12288465 0.32732682 0.64645331]\n",
            " [0.23666326 0.31301432 0.33514549 0.02998498 0.56106709]\n",
            " [0.63541163 0.70265189 0.7829217  0.46738313 0.05298593]\n",
            " [0.31533065 0.2683734  0.34999454 0.16886182 0.02791927]]\n"
          ]
        }
      ]
    }
  ]
}